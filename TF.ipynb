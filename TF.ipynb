{
  "nbformat": 4,
  "nbformat_minor": 0,
  "metadata": {
    "colab": {
      "name": "TF.ipynb",
      "provenance": [],
      "authorship_tag": "ABX9TyPMyT5LEQM/VzZncg/5kaOs",
      "include_colab_link": true
    },
    "kernelspec": {
      "name": "python3",
      "display_name": "Python 3"
    }
  },
  "cells": [
    {
      "cell_type": "markdown",
      "metadata": {
        "id": "view-in-github",
        "colab_type": "text"
      },
      "source": [
        "<a href=\"https://colab.research.google.com/github/gullyboy007/deep-learn/blob/master/TF.ipynb\" target=\"_parent\"><img src=\"https://colab.research.google.com/assets/colab-badge.svg\" alt=\"Open In Colab\"/></a>"
      ]
    },
    {
      "cell_type": "code",
      "metadata": {
        "id": "vLQYA5_rYIgn",
        "colab_type": "code",
        "colab": {
          "base_uri": "https://localhost:8080/",
          "height": 87
        },
        "outputId": "0a460ed4-aec6-466a-b4a5-661d6ae5b26a"
      },
      "source": [
        "import tensorflow.compat.v1 as tf\n",
        "tf.disable_v2_behavior()\n"
      ],
      "execution_count": 16,
      "outputs": [
        {
          "output_type": "stream",
          "text": [
            "WARNING:tensorflow:From /usr/local/lib/python3.6/dist-packages/tensorflow/python/compat/v2_compat.py:96: disable_resource_variables (from tensorflow.python.ops.variable_scope) is deprecated and will be removed in a future version.\n",
            "Instructions for updating:\n",
            "non-resource variables are not supported in the long term\n"
          ],
          "name": "stdout"
        }
      ]
    },
    {
      "cell_type": "code",
      "metadata": {
        "id": "w0owlGVwZUm8",
        "colab_type": "code",
        "colab": {}
      },
      "source": [
        "a = tf.constant(5)\n",
        "b = tf.constant(10)\n",
        "\n",
        "c = a + b\n"
      ],
      "execution_count": 0,
      "outputs": []
    },
    {
      "cell_type": "code",
      "metadata": {
        "id": "BqwT5M75ZcnS",
        "colab_type": "code",
        "colab": {
          "base_uri": "https://localhost:8080/",
          "height": 34
        },
        "outputId": "1d0c7124-17ce-4a35-91ab-43ee6ce9da45"
      },
      "source": [
        "with tf.Session() as sess:\n",
        "\n",
        "\n",
        "  output = sess.run(c)\n",
        "  print(output)\n",
        "\n",
        "\n"
      ],
      "execution_count": 21,
      "outputs": [
        {
          "output_type": "stream",
          "text": [
            "15\n"
          ],
          "name": "stdout"
        }
      ]
    },
    {
      "cell_type": "code",
      "metadata": {
        "id": "DqM7CYIdZxDX",
        "colab_type": "code",
        "colab": {
          "base_uri": "https://localhost:8080/",
          "height": 34
        },
        "outputId": "699a041b-349f-4907-e7c2-e0eac5e3fa07"
      },
      "source": [
        "tf.InteractiveSession()\n",
        "c.eval()"
      ],
      "execution_count": 22,
      "outputs": [
        {
          "output_type": "execute_result",
          "data": {
            "text/plain": [
              "15"
            ]
          },
          "metadata": {
            "tags": []
          },
          "execution_count": 22
        }
      ]
    },
    {
      "cell_type": "code",
      "metadata": {
        "id": "VDmVX-6EasA6",
        "colab_type": "code",
        "colab": {
          "base_uri": "https://localhost:8080/",
          "height": 34
        },
        "outputId": "21ce74a6-5d46-4cc4-be5c-788666817f67"
      },
      "source": [
        "x = 2\n",
        "y = 5\n",
        "\n",
        "#here we see how graphs work\n",
        "\n",
        "op1 = tf.add(x,y)\n",
        "op2 = tf.multiply(x,y)\n",
        "op3 = tf.pow(op2,op1)\n",
        "\n",
        "with tf.Session() as sess:\n",
        "  op3 = sess.run(op3)\n",
        "  print(op3)\n"
      ],
      "execution_count": 24,
      "outputs": [
        {
          "output_type": "stream",
          "text": [
            "10000000\n"
          ],
          "name": "stdout"
        }
      ]
    },
    {
      "cell_type": "code",
      "metadata": {
        "id": "Uo0bK2B_bJOP",
        "colab_type": "code",
        "colab": {
          "base_uri": "https://localhost:8080/",
          "height": 87
        },
        "outputId": "1743d973-cb8f-4be7-e5b9-7fc9b0967853"
      },
      "source": [
        "#constants = fixed value tensors-not trainable\n",
        "#variables = tensors initilized in a session-trainable\n",
        "#placeholders = tensors whose values are unknown during construction but as input during a session\n",
        "\n",
        "#CONSTANT\n",
        "\n",
        "import numpy as np\n",
        "\n",
        "a = tf.constant(3)\n",
        "b = tf.constant(5)\n",
        "c = a+b\n",
        "\n",
        "tf.InteractiveSession()\n",
        "print(c.eval())\n",
        "\n",
        "\n"
      ],
      "execution_count": 25,
      "outputs": [
        {
          "output_type": "stream",
          "text": [
            "8\n"
          ],
          "name": "stdout"
        },
        {
          "output_type": "stream",
          "text": [
            "/usr/local/lib/python3.6/dist-packages/tensorflow/python/client/session.py:1751: UserWarning: An interactive session is already active. This can cause out-of-memory errors in some cases. You must explicitly call `InteractiveSession.close()` to release resources held by the other session(s).\n",
            "  warnings.warn('An interactive session is already active. This can '\n"
          ],
          "name": "stderr"
        }
      ]
    },
    {
      "cell_type": "code",
      "metadata": {
        "id": "i4iA2uotcmA1",
        "colab_type": "code",
        "colab": {
          "base_uri": "https://localhost:8080/",
          "height": 67
        },
        "outputId": "f051c877-fa5f-4199-f347-dc93af503dc4"
      },
      "source": [
        "#Variable\n",
        "\n",
        "a = tf.Variable(0)\n",
        "b = tf.constant(1)\n",
        "\n",
        "mid = tf.add(a,b)\n",
        "final = tf.assign(a, mid)\n",
        "var = tf.initialize_all_variables()\n",
        "\n",
        "with tf.Session() as sess:\n",
        "  sess.run(var)\n",
        "\n",
        "  for i in range(3):\n",
        "    sess.run(final)\n",
        "    print(sess.run(a))  \n",
        "\n"
      ],
      "execution_count": 27,
      "outputs": [
        {
          "output_type": "stream",
          "text": [
            "1\n",
            "2\n",
            "3\n"
          ],
          "name": "stdout"
        }
      ]
    },
    {
      "cell_type": "code",
      "metadata": {
        "id": "SGM4hAXWdzSa",
        "colab_type": "code",
        "colab": {
          "base_uri": "https://localhost:8080/",
          "height": 34
        },
        "outputId": "6adbd02c-5cbd-4345-c654-bd66e1782836"
      },
      "source": [
        "x = tf.placeholder(\"float32\", None)\n",
        "y = x**2\n",
        "\n",
        "with tf.Session() as sess:\n",
        "  result = sess.run(y, feed_dict = {x : [1,2,3]})\n",
        "  print(result)"
      ],
      "execution_count": 28,
      "outputs": [
        {
          "output_type": "stream",
          "text": [
            "[1. 4. 9.]\n"
          ],
          "name": "stdout"
        }
      ]
    },
    {
      "cell_type": "code",
      "metadata": {
        "id": "4E86Z8KVf1TP",
        "colab_type": "code",
        "colab": {
          "base_uri": "https://localhost:8080/",
          "height": 50
        },
        "outputId": "5da58008-5aff-4cd1-b8fe-857dfcc361e6"
      },
      "source": [
        "x = tf.placeholder(\"float32\", [None,3])\n",
        "y = x**2\n",
        "\n",
        "with tf.Session() as sess:\n",
        "  result = sess.run(y, feed_dict = {x : [[1,2,3],[4,5,6]]})\n",
        "  print(result)"
      ],
      "execution_count": 30,
      "outputs": [
        {
          "output_type": "stream",
          "text": [
            "[[ 1.  4.  9.]\n",
            " [16. 25. 36.]]\n"
          ],
          "name": "stdout"
        }
      ]
    },
    {
      "cell_type": "code",
      "metadata": {
        "id": "dt6yL5mxfj4h",
        "colab_type": "code",
        "colab": {}
      },
      "source": [
        ""
      ],
      "execution_count": 0,
      "outputs": []
    }
  ]
}