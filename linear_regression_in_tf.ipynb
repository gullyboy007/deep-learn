{
  "nbformat": 4,
  "nbformat_minor": 0,
  "metadata": {
    "colab": {
      "name": "linear-regression-in-tf.ipynb",
      "provenance": [],
      "collapsed_sections": [],
      "authorship_tag": "ABX9TyNG1+nr7HPX4cKw4SgbA48G",
      "include_colab_link": true
    },
    "kernelspec": {
      "name": "python3",
      "display_name": "Python 3"
    }
  },
  "cells": [
    {
      "cell_type": "markdown",
      "metadata": {
        "id": "view-in-github",
        "colab_type": "text"
      },
      "source": [
        "<a href=\"https://colab.research.google.com/github/gullyboy007/deep-learn/blob/master/linear_regression_in_tf.ipynb\" target=\"_parent\"><img src=\"https://colab.research.google.com/assets/colab-badge.svg\" alt=\"Open In Colab\"/></a>"
      ]
    },
    {
      "cell_type": "code",
      "metadata": {
        "id": "NyX3iz5ngCAw",
        "colab_type": "code",
        "colab": {}
      },
      "source": [
        "import numpy as np\n",
        "import tensorflow.compat.v1 as tf\n",
        "import matplotlib.pyplot as plt\n",
        "tf.disable_v2_behavior()\n"
      ],
      "execution_count": 0,
      "outputs": []
    },
    {
      "cell_type": "code",
      "metadata": {
        "id": "yu365qbUmT9b",
        "colab_type": "code",
        "colab": {}
      },
      "source": [
        "learning_parameter = 0.01\n",
        "epoch = 300"
      ],
      "execution_count": 0,
      "outputs": []
    },
    {
      "cell_type": "code",
      "metadata": {
        "id": "PdqT0bU6mbeA",
        "colab_type": "code",
        "colab": {}
      },
      "source": [
        "sample_points = 50\n",
        "\n",
        "x_train = np.linspace(0, 30, sample_points)\n",
        "y_train = 6*x_train + 7*np.random.randn(sample_points)"
      ],
      "execution_count": 0,
      "outputs": []
    },
    {
      "cell_type": "code",
      "metadata": {
        "id": "TNFsFqmhnJ0K",
        "colab_type": "code",
        "colab": {
          "base_uri": "https://localhost:8080/",
          "height": 265
        },
        "outputId": "a98a6027-a956-4be1-a06f-ec349dbf2e87"
      },
      "source": [
        "#Noisy dataset\n",
        "plt.plot(x_train, y_train, 'o')\n",
        "#Noise free dataset\n",
        "plt.plot(x_train, 6*x_train)\n",
        "plt.show()"
      ],
      "execution_count": 10,
      "outputs": [
        {
          "output_type": "display_data",
          "data": {
            "image/png": "[encoded data removed]",
            "text/plain": [
              "<Figure size 432x288 with 1 Axes>"
            ]
          },
          "metadata": {
            "tags": [],
            "needs_background": "light"
          }
        }
      ]
    },
    {
      "cell_type": "code",
      "metadata": {
        "id": "3IVH8nvanMkL",
        "colab_type": "code",
        "colab": {}
      },
      "source": [
        "#Define the TF definitions\n",
        "Y = tf.placeholder(tf.float32)\n",
        "X = tf.placeholder(tf.float32)\n",
        "\n",
        "W = tf.Variable(np.random.randn(), name='weights')\n",
        "B = tf.Variable(np.random.randn(), name='bias')\n",
        "\n",
        "#Create the mode for regression\n",
        "pred = X*W + B\n",
        "#Cost function\n",
        "cost_iteration = tf.reduce_sum((pred-Y)**2)/(2*sample_points)\n",
        "\n",
        "#Define the optimizer\n",
        "optimizer = tf.train.GradientDescentOptimizer(learning_parameter).minimize(cost_iteration)\n",
        "\n",
        "#Initialize the variables\n",
        "init = tf.global_variables_initializer()"
      ],
      "execution_count": 0,
      "outputs": []
    },
    {
      "cell_type": "code",
      "metadata": {
        "id": "fWtO0NLyo7H5",
        "colab_type": "code",
        "colab": {
          "base_uri": "https://localhost:8080/",
          "height": 151
        },
        "outputId": "6d0a1abd-d105-433b-a76f-fb709049e9eb"
      },
      "source": [
        "#Define the TF session\n",
        "\n",
        "with tf.Session() as sess:\n",
        "  sess.run(init)\n",
        "  for epoch in range(epoch):\n",
        "    for x, y in zip(x_train,y_train):\n",
        "      sess.run(optimizer, feed_dict= {X : x, Y : y})\n",
        "    if not epoch%40:\n",
        "      W1 = sess.run(W)\n",
        "      B1 = sess.run(B)\n",
        "      cost_iter = sess.run(cost_iteration, feed_dict={X : x, Y : y})  \n",
        "      print(\"Epoch %f Cost %f Weight %f Bias %f\" %(epoch, cost_iter, W1, B1))\n",
        "\n",
        "  Weight = sess.run(W)\n",
        "  Bias = sess.run(B)    "
      ],
      "execution_count": 17,
      "outputs": [
        {
          "output_type": "stream",
          "text": [
            "Epoch 0.000000 Cost 1.779404 Weight 5.757063 Bias -0.363828\n",
            "Epoch 40.000000 Cost 0.123608 Weight 6.089280 Bias -0.506701\n",
            "Epoch 80.000000 Cost 0.122002 Weight 6.095012 Bias -0.655747\n",
            "Epoch 120.000000 Cost 0.120555 Weight 6.100203 Bias -0.790713\n",
            "Epoch 160.000000 Cost 0.119255 Weight 6.104903 Bias -0.912928\n",
            "Epoch 200.000000 Cost 0.118083 Weight 6.109159 Bias -1.023599\n",
            "Epoch 240.000000 Cost 0.117025 Weight 6.113013 Bias -1.123812\n",
            "Epoch 280.000000 Cost 0.116072 Weight 6.116503 Bias -1.214558\n"
          ],
          "name": "stdout"
        }
      ]
    },
    {
      "cell_type": "code",
      "metadata": {
        "id": "IugC2aaTrgLi",
        "colab_type": "code",
        "colab": {
          "base_uri": "https://localhost:8080/",
          "height": 265
        },
        "outputId": "47937f47-aa75-4c1b-8a95-b01c8c18b3d6"
      },
      "source": [
        "plt.plot(x_train, y_train, 'o')\n",
        "plt.plot(x_train,Weight*x_train+Bias,color = 'Green')\n",
        "plt.plot(x_train, 6*x_train)\n",
        "plt.show()"
      ],
      "execution_count": 21,
      "outputs": [
        {
          "output_type": "display_data",
          "data": {
            "image/png": "[encoded data removed]",
            "text/plain": [
              "<Figure size 432x288 with 1 Axes>"
            ]
          },
          "metadata": {
            "tags": [],
            "needs_background": "light"
          }
        }
      ]
    },
    {
      "cell_type": "code",
      "metadata": {
        "id": "VP7KARDFsDJu",
        "colab_type": "code",
        "colab": {}
      },
      "source": [
        ""
      ],
      "execution_count": 0,
      "outputs": []
    }
  ]
}