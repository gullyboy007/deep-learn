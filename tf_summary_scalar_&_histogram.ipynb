{
  "nbformat": 4,
  "nbformat_minor": 0,
  "metadata": {
    "colab": {
      "name": "tf.summary.scalar & histogram.ipynb",
      "provenance": [],
      "collapsed_sections": [],
      "authorship_tag": "ABX9TyMzC8Iq0CFRshY1zHyfeiNL",
      "include_colab_link": true
    },
    "kernelspec": {
      "name": "python3",
      "display_name": "Python 3"
    }
  },
  "cells": [
    {
      "cell_type": "markdown",
      "metadata": {
        "id": "view-in-github",
        "colab_type": "text"
      },
      "source": [
        "<a href=\"https://colab.research.google.com/github/gullyboy007/deep-learn/blob/master/tf_summary_scalar_%26_histogram.ipynb\" target=\"_parent\"><img src=\"https://colab.research.google.com/assets/colab-badge.svg\" alt=\"Open In Colab\"/></a>"
      ]
    },
    {
      "cell_type": "code",
      "metadata": {
        "id": "FCQE4SyPbRLM",
        "colab_type": "code",
        "colab": {
          "base_uri": "https://localhost:8080/",
          "height": 87
        },
        "outputId": "b089e6a4-2aab-4737-c15a-d6e8983bf32a"
      },
      "source": [
        "#Randomly pick 100 values from a normal dist N(0, 1) and plot them one after the other\n",
        "\n",
        "import tensorflow.compat.v1 as tf\n",
        "\n",
        "tf.reset_default_graph()\n",
        "tf.disable_eager_execution()\n",
        "\n",
        "\n",
        "s_scalar = tf.get_variable(name = 's_scalar', shape=[], initializer = tf.truncated_normal_initializer(mean = 0, stddev = 1))\n",
        "\n",
        "first_summary = tf.summary.scalar(name = 'First_summary', tensor = s_scalar)\n",
        "\n",
        "init = tf.global_variables_initializer()\n",
        "\n",
        "with tf.Session() as sess:\n",
        "\n",
        "  writer = tf.summary.FileWriter('./logs', sess.graph)\n",
        "\n",
        "  for i in range(100):\n",
        "\n",
        "    sess.run(init)\n",
        "    summary = sess.run(first_summary)\n",
        "    writer.add_summary(summary, i)\n"
      ],
      "execution_count": 1,
      "outputs": [
        {
          "output_type": "stream",
          "text": [
            "WARNING:tensorflow:From /usr/local/lib/python3.6/dist-packages/tensorflow/python/ops/resource_variable_ops.py:1666: calling BaseResourceVariable.__init__ (from tensorflow.python.ops.resource_variable_ops) with constraint is deprecated and will be removed in a future version.\n",
            "Instructions for updating:\n",
            "If using Keras pass *_constraint arguments to layers.\n"
          ],
          "name": "stdout"
        }
      ]
    },
    {
      "cell_type": "code",
      "metadata": {
        "id": "jM0S5iFedpmt",
        "colab_type": "code",
        "colab": {}
      },
      "source": [
        "#tf.summary.histogram\n",
        "import tensorflow.compat.v1 as tf\n",
        "tf.disable_v2_behavior()\n",
        "\n",
        "tf.reset_default_graph()\n",
        "tf.disable_eager_execution()\n",
        "\n",
        "\n",
        "s_scalar = tf.get_variable(name = 's_scalar', shape=[], initializer = tf.truncated_normal_initializer(mean = 0, stddev = 1))\n",
        "y_matrix = tf.get_variable(name = 'y_matrix', shape=[40, 50], initializer = tf.truncated_normal_initializer(mean = 0, stddev = 1))\n",
        "#A scalar summary for scalar tensor\n",
        "first_summary = tf.summary.scalar(name = 'First_summary', tensor = s_scalar)\n",
        "#A histogram summary for non-scalar tensor 2D or 3D\n",
        "histogram_summary = tf.summary.histogram(name = 'histogram_summary', values = y_matrix)\n",
        "\n",
        "init = tf.global_variables_initializer()\n",
        "\n",
        "with tf.Session() as sess:\n",
        "\n",
        "  writer = tf.summary.FileWriter('./logs', sess.graph)\n",
        "\n",
        "  for i in range(100):\n",
        "\n",
        "    sess.run(init)\n",
        "    summary1, summary2 = sess.run([first_summary, histogram_summary])\n",
        "    writer.add_summary(summary1, i)\n",
        "    writer.add_summary(summary2, i)"
      ],
      "execution_count": 0,
      "outputs": []
    },
    {
      "cell_type": "code",
      "metadata": {
        "id": "NyX3iz5ngCAw",
        "colab_type": "code",
        "colab": {}
      },
      "source": [
        ""
      ],
      "execution_count": 0,
      "outputs": []
    }
  ]
}