{
  "nbformat": 4,
  "nbformat_minor": 0,
  "metadata": {
    "colab": {
      "name": "Tensorboard.ipynb",
      "provenance": [],
      "collapsed_sections": [],
      "authorship_tag": "ABX9TyPumBjsPLv1UXpw3VOhd/Wt",
      "include_colab_link": true
    },
    "kernelspec": {
      "name": "python3",
      "display_name": "Python 3"
    }
  },
  "cells": [
    {
      "cell_type": "markdown",
      "metadata": {
        "id": "view-in-github",
        "colab_type": "text"
      },
      "source": [
        "<a href=\"https://colab.research.google.com/github/gullyboy007/deep-learn/blob/master/Tensorboard.ipynb\" target=\"_parent\"><img src=\"https://colab.research.google.com/assets/colab-badge.svg\" alt=\"Open In Colab\"/></a>"
      ]
    },
    {
      "cell_type": "code",
      "metadata": {
        "id": "2vwLACXBhZR7",
        "colab_type": "code",
        "colab": {
          "base_uri": "https://localhost:8080/",
          "height": 34
        },
        "outputId": "ecf0f0f7-5660-468d-dd43-2e804fdc1b79"
      },
      "source": [
        "import tensorflow.compat.v1 as tf\n",
        "\n",
        "a = tf.add(1,2)\n",
        "b = tf.multiply(a,3)\n",
        "c = tf.add(4,5)\n",
        "\n",
        "d = tf.multiply(c,6)\n",
        "e = tf.multiply(4,5)\n",
        "f = tf.div(c,6)\n",
        "\n",
        "g = tf.add(b,d)\n",
        "h = tf.multiply(g,f)\n",
        "\n",
        "with tf.Session() as sess:\n",
        "  writer = tf.summary.FileWriter(\"./logs\", sess.graph)\n",
        "\n",
        "  print(sess.run(h))\n",
        "  writer.close()"
      ],
      "execution_count": 34,
      "outputs": [
        {
          "output_type": "stream",
          "text": [
            "63\n"
          ],
          "name": "stdout"
        }
      ]
    },
    {
      "cell_type": "code",
      "metadata": {
        "id": "Us3brnn4iPDx",
        "colab_type": "code",
        "colab": {}
      },
      "source": [
        "#Restart runtime and then execute below code\n",
        "import tensorflow.compat.v1 as tf\n",
        "\n",
        "with tf.name_scope('My_Graph'):\n",
        "  with tf.name_scope('scope_1'):\n",
        "    a = tf.add(1,2)\n",
        "    b = tf.multiply(a,3)\n",
        "  with tf.name_scope('scope_2'):  \n",
        "    c = tf.add(4,5)\n",
        "    d = tf.multiply(c,6)\n",
        "\n",
        "\n",
        "e = tf.multiply(4,5)\n",
        "f = tf.div(c,6)\n",
        "\n",
        "g = tf.add(b,d)\n",
        "h = tf.multiply(g,f)\n",
        "\n",
        "with tf.Session() as sess:\n",
        "  writer = tf.summary.FileWriter(\"./logs\", sess.graph)\n",
        "\n",
        "  print(sess.run(h))\n",
        "  writer.close()"
      ],
      "execution_count": 0,
      "outputs": []
    }
  ]
}